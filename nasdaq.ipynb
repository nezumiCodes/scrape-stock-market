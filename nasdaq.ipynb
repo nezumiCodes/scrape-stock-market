{
 "cells": [
  {
   "cell_type": "markdown",
   "metadata": {},
   "source": [
    "### Libraries and settings"
   ]
  },
  {
   "cell_type": "code",
   "execution_count": 1,
   "metadata": {},
   "outputs": [],
   "source": [
    "import os\n",
    "import io\n",
    "import time\n",
    "import requests\n",
    "import logging\n",
    "import pandas as pd\n",
    "from selenium import webdriver\n",
    "from selenium.webdriver.chrome.service import Service\n",
    "from selenium.webdriver.chrome.options import Options\n",
    "from selenium.webdriver.common.by import By\n",
    "from selenium.common.exceptions import NoSuchElementException, TimeoutException\n",
    "from selenium.webdriver.support.ui import WebDriverWait\n",
    "from selenium.webdriver.support import expected_conditions as EC"
   ]
  },
  {
   "cell_type": "code",
   "execution_count": 2,
   "metadata": {},
   "outputs": [],
   "source": [
    "logging.basicConfig(\n",
    "    filename=\"nasdaq.log\",\n",
    "    level=logging.INFO,\n",
    "    encoding=\"utf-8\",\n",
    "    filemode=\"a\", # append\n",
    "    format=\"{asctime} - {levelname} - {message}\",\n",
    "    style=\"{\",\n",
    "    datefmt=\"%Y-%m-%d %H:%M\",\n",
    ")\n",
    "\n",
    "logger = logging.getLogger(__name__)"
   ]
  },
  {
   "cell_type": "markdown",
   "metadata": {},
   "source": [
    "### Get all Nasdaq symbols"
   ]
  },
  {
   "cell_type": "code",
   "execution_count": 3,
   "metadata": {},
   "outputs": [],
   "source": [
    "url = \"https://www.nasdaqtrader.com/dynamic/symdir/nasdaqlisted.txt\"\n",
    "\n",
    "try:\n",
    "    response = requests.get(url)\n",
    "    data = response.text\n",
    "    data = '\\n'.join(data.split('\\n')[:-2]) # Remove 2 last lines containing newline and file creation timestamp\n",
    "\n",
    "    symbols = pd.read_csv(io.StringIO(data), sep='|', engine='python') # allow reading string data as CSV file with custom delimeter\n",
    "    \n",
    "    symbol_names = symbols['Symbol'].tolist() # only keep symbol names\n",
    "except Exception as e:\n",
    "    print(\"Error getting request body: \" + str(e))"
   ]
  },
  {
   "cell_type": "markdown",
   "metadata": {},
   "source": [
    "### Set up download directory"
   ]
  },
  {
   "cell_type": "code",
   "execution_count": 12,
   "metadata": {},
   "outputs": [],
   "source": [
    "download_directory = os.path.abspath(\"./Data/Nasdaq/\")\n",
    "\n",
    "if not os.path.exists(download_directory):\n",
    "    os.makedirs(download_directory)\n",
    "    print(f\"Directory created: {download_directory}\")\n",
    "else:\n",
    "    print(f\"Directory already exists: {download_directory}\")"
   ]
  },
  {
   "cell_type": "markdown",
   "metadata": {},
   "source": [
    "### Set up WebDriver and Options"
   ]
  },
  {
   "cell_type": "code",
   "execution_count": 13,
   "metadata": {},
   "outputs": [],
   "source": [
    "driver_path = './Drivers/chromedriver-win64/chromedriver.exe'\n",
    "\n",
    "options = Options()\n",
    "options.add_experimental_option('prefs', {\n",
    "    \"download.default_directory\": os.path.abspath(download_directory),\n",
    "    \"download.prompt_for_download\": False,  # Disable download prompt\n",
    "    \"download.directory_upgrade\": True,     # Automatically overwrite existing files\n",
    "    \"safebrowsing.enabled\": True,           # Enable safe browsing\n",
    "})\n",
    "#options.add_argument('--headless') # headless mode to reduce resource usage\n",
    "options.add_argument('--disable-search-engine-choice-screen') # disable seach engine selection screen with Chrome driver v127\n",
    "#options.add_argument('--start-maximized')  # Start maximised for headless\n",
    "\n",
    "\n",
    "# Set service for executable path\n",
    "service = Service(executable_path=driver_path)\n",
    "driver = webdriver.Chrome(service=service, options=options)"
   ]
  },
  {
   "cell_type": "markdown",
   "metadata": {},
   "source": [
    "### Use Selenium to interact with Yahoo Finance"
   ]
  },
  {
   "cell_type": "code",
   "execution_count": null,
   "metadata": {},
   "outputs": [],
   "source": [
    "base_url =\"https://finance.yahoo.com/quote/{}/history\"\n",
    "\n",
    "for symbol in symbol_names:\n",
    "    try: \n",
    "        url = base_url.format(symbol)\n",
    "        driver.get(url)\n",
    "\n",
    "        try:\n",
    "            reject_gdpr_btn = driver.find_element(By.CLASS_NAME, 'reject-all') # find GDPR reject\n",
    "            reject_gdpr_btn.click()\n",
    "        except NoSuchElementException:\n",
    "            print(\"GDPR rejection button not found, continuing without action.\")\n",
    "        \n",
    "        wait = WebDriverWait(driver, 60) # wait up to 60 seconds\n",
    "        \n",
    "        # Date filter\n",
    "        filter_btn = wait.until(EC.element_to_be_clickable((By.XPATH, \"//button[@data-ylk='elmt:menu;itc:1;elm:input;sec:qsp-historical;slk:date-select;subsec:calendar']\")))\n",
    "        filter_btn.click()\n",
    "\n",
    "        # Max period\n",
    "        max_filter_btn = wait.until(EC.element_to_be_clickable((By.XPATH, \"//button[@value='MAX']\")))\n",
    "        max_filter_btn.click()\n",
    "        \n",
    "        # Donwload CSV button\n",
    "        download_btn = wait.until(EC.element_to_be_clickable((By.XPATH, \"//a[@data-testid='download-link']\")))\n",
    "        download_btn.click()\n",
    "        \n",
    "        logging.info(f\"File for {symbol=} was downloaded.\")\n",
    "\n",
    "        time.sleep(5) # sleep 5s before next symbol\n",
    "    except TimeoutException as e:\n",
    "        print(f\"Timed out waiting for page elements:\\n{e}\")\n",
    "        print(f\"Symbol {symbol} was not found.\")\n",
    "        logging.info(f\"WARNING: File for {symbol=} was NOT FOUND.\")\n",
    "    except Exception as e:\n",
    "        print(f\"An error occurred:\\n{e}\")\n",
    "        \n",
    "driver.quit()"
   ]
  }
 ],
 "metadata": {
  "kernelspec": {
   "display_name": "data-science",
   "language": "python",
   "name": "python3"
  },
  "language_info": {
   "codemirror_mode": {
    "name": "ipython",
    "version": 3
   },
   "file_extension": ".py",
   "mimetype": "text/x-python",
   "name": "python",
   "nbconvert_exporter": "python",
   "pygments_lexer": "ipython3",
   "version": "3.11.9"
  }
 },
 "nbformat": 4,
 "nbformat_minor": 2
}
